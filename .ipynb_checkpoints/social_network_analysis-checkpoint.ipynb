{
 "cells": [
  {
   "cell_type": "markdown",
   "metadata": {},
   "source": [
    "# 바이럴 마케팅에 활용할 소셜 인플루언서 선별 모형"
   ]
  },
  {
   "cell_type": "markdown",
   "metadata": {},
   "source": [
    "## Table of Contents\n",
    "### 1. 데이터\n",
    "- Yelp 데이터셋\n",
    "- Yelp 데이터 분석 사례\n",
    "    \n",
    "### 2. 데이터 분석 기획\n",
    "- 목적\n",
    "- 사용 데이터\n",
    "- 소셜 네트워크 분석\n",
    "\n",
    "### 3. 소셜 네트워크\n",
    "- Social Network Structuring\n",
    "\n",
    "### 4. 소셜 네트워크 분석\n",
    "- Exploratory Data Analysis\n",
    "- User Importance Ranking: Infuential User Identification\n",
    "- Evaluation by Information Diffusion Simulation \n",
    "\n",
    "### 5. 결론\n",
    "### 6. 향후 연구\n",
    "_________________________________"
   ]
  },
  {
   "cell_type": "markdown",
   "metadata": {},
   "source": [
    "## 1. Exploratory Data Analysis\n",
    "- Yelp Dataset\n",
    "- Yelp 데이터 분석 사례"
   ]
  },
  {
   "cell_type": "markdown",
   "metadata": {},
   "source": [
    "### Yelp Dataset\n",
    "- **yelp_academic_dataset_business.json**\n",
    "    - business_id : string, ex) \"f9NumwFMBDn751xgFiRbNA\"\n",
    "    - name : string, ex) \"The Range At Lake Norman\"\n",
    "    - address : string, ex) \"10913 Bailey Rd\"\n",
    "    - city : string, ex) \"Cornelius\"\n",
    "    - state : string, ex) \"NC\"\n",
    "    - postal_code : string, ex) \"28031\"\n",
    "    - latitude : float, ex) 35.4627242\n",
    "    - longitude : float, ex) -80.8526119\n",
    "    - stars : float, ex) 3.5\n",
    "    - review_count : int, ex) 36\n",
    "    - is_open : int, ex) 1\n",
    "        - attribute : \"BusinessAcceptsCreditCards\", \"BusinessAcceptsCreditCards\", ...\n",
    "    - categories : string, ex) \"Active Life, Gun/Rifle Ranges, Guns & Ammo, Shopping\"\n",
    "        - hours : Monday, Tuesday, Wednesday, Thursday, Friday, Saturday, Sunday\n",
    "- **yelp_academic_dataset_checkin.json**\n",
    "    - business_id : string, ex) \"--1UhMGODdWsrMastO9DZw\"\n",
    "    - date : string, ex) \"2016-04-26 19:49:16, 2016-08-30 18:36:57\n",
    "- **yelp_academic_dataset_review.json**\n",
    "    - review_id : string, ex) \"xQY8N_XvtGbearJ5X4QryQ\"\n",
    "    - user_id : string, ex) \"OwjRMXRC0KyPrIlcjaXeFQ\"\n",
    "    - business_id : string, ex) \"-MhfebM0QIsKt87iDN-FNw\"\n",
    "    - stars : int, ex) 2\n",
    "    - useful : int, ex) 5\n",
    "    - funny : int, ex) 0\n",
    "    - cool : int, ex) 0\n",
    "    - text : string, ex) \"As someone who has worked with many museums, ...\" \n",
    "    - date : string, ex) \"2015-04-15 05:21:16\"\n",
    "- **yelp_academic_dataset_tip.json**\n",
    "    - user_id : string, ex) \"hf27xTME3EiCp6NL6VtWZQ\"\n",
    "    - business_id : string, ex) \"UYX5zL_Xj9WEc_Wp-FrqHw\"\n",
    "    - text : string, ex) \"Here for a quick mtg\"\n",
    "    - date : string, ex) \"2013-11-26 18:20:08\"\n",
    "    - compliment_count : int, ex) 0\n",
    "- **yelp_academic_dataset_user.json**\n",
    "    - user_id : string, ex) \"ntlvfPzc8eglqvk92iDIAw\"\n",
    "    - name : string, ex) \"Rafael\"\n",
    "    - review_count : int, ex) 533\n",
    "    - yelping_since : string, ex) \"2007-07-06 03:27:11\"\n",
    "    - useful : int, ex) 628\n",
    "    - funny : int, ex) 225\n",
    "    - cool : int, ex) 227\n",
    "    - elite : string, ex) \"\"\n",
    "    - friends : string, ex) \"oeMvJh94PiGQnx_6GlndPQ, wm1z1PaJKvHgSDRKfwhfDg, ...\"\n",
    "    - fans : int, ex) 14\n",
    "    - average_stars : float, ex) 3.57\n",
    "    - compliment_hot : int, ex) 3\n",
    "    - compliment_more : int, ex) 2\n",
    "    - compliment_profile : int, ex) 1\n",
    "    - compliment_cute : int, ex) 0\n",
    "    - compliment_list : int, ex) 1\n",
    "    - compliment_note : int, ex) 11\n",
    "    - compliment_plain : int, ex) 15\n",
    "    - compliment_cool : int, ex) 22\n",
    "    - compliment_funny : int, ex) 22\n",
    "    - compliment_witer : int, ex) 10\n",
    "    - compliment_photos : int, ex) 0"
   ]
  },
  {
   "cell_type": "markdown",
   "metadata": {},
   "source": [
    "### Yelp 데이터 분석 사례\n",
    "- Business review 감성 분석\n",
    "- User-Business 협업 필터링 추천 시스템 \n",
    "- 그래프 마이닝을 통한 네트워크 분석"
   ]
  },
  {
   "cell_type": "markdown",
   "metadata": {},
   "source": [
    "----------------------"
   ]
  },
  {
   "cell_type": "markdown",
   "metadata": {},
   "source": [
    "## 2. 데이터 분석 기획\n",
    "\n",
    "### 목적 \n",
    "- 옐프는 단순 리뷰사이트가 아닌 유저들끼리 친구맺기 기능이 있는 소셜네트워크 시스템도 제공한다. 옐프가 제공하는 소셜네트워크 데이터를 통해 바이럴 마케팅에 활용할 영향력이 높은 소셜 인플루언서들을 선별 한다. \n",
    "\n",
    "### 사용 데이터 \n",
    "- yelp_academic_dataset_user.json 데이터에서 아래 두 칼럼을 사용하여 소셜 네트워크 데이터를 구성한다.\n",
    "    - user_id: 사용자 id\n",
    "    - friends: 사용자 친구 목록\n",
    "\n",
    "### 소셜 네트워크 분석\n",
    "- 소셜 네트워크 상에서 유저의 중요성을 측정하는 모형들을 통해 소셜 인플루언서들을 선별한다. \n",
    "- 각 모형에서 선별된 인플루언서들을 통해 네트워크 상에서 정보가 퍼지는 속도를 시뮬레이션하여 선별 모형의 성능을 평가한다. "
   ]
  },
  {
   "cell_type": "markdown",
   "metadata": {},
   "source": [
    "## 3. Network Structuring\n",
    "- Social Network Structuring"
   ]
  },
  {
   "cell_type": "code",
   "execution_count": 1,
   "metadata": {},
   "outputs": [],
   "source": [
    "import numpy as np\n",
    "import pandas as pd\n",
    "import json\n",
    "import pickle\n",
    "from tqdm import tqdm\n",
    "import time\n",
    "import itertools\n",
    "\n",
    "# 네트워크 분석 패키지\n",
    "from scipy.sparse import csc_matrix\n",
    "import networkx as nx\n",
    "\n",
    "# information diffusion 관련 패키지\n",
    "import ndlib.models.epidemics as ep\n",
    "import ndlib.models.ModelConfig as mc\n",
    "from bokeh.io import output_notebook, show\n",
    "from ndlib.viz.bokeh.DiffusionTrend import DiffusionTrend\n",
    "\n",
    "# 시각화 패키지\n",
    "import matplotlib.pyplot as plt\n",
    "import seaborn as sns\n",
    "from PIL import Image\n",
    "%matplotlib inline"
   ]
  },
  {
   "cell_type": "markdown",
   "metadata": {},
   "source": [
    "### Social Network Structuring\n",
    "- user와 friends 칼럼을 활용하여 social network 데이터를 구성한다."
   ]
  },
  {
   "cell_type": "code",
   "execution_count": 2,
   "metadata": {},
   "outputs": [
    {
     "name": "stderr",
     "output_type": "stream",
     "text": [
      "1968703it [01:45, 18653.98it/s]\n"
     ]
    }
   ],
   "source": [
    "# 사용자 데이터 추출\n",
    "users = {\n",
    "    'nid': [],\n",
    "    'user_id': [],\n",
    "    'useful': [],\n",
    "    'friends' : [],\n",
    "    'fans' : []\n",
    "}\n",
    "\n",
    "with open('./data/yelp_academic_dataset_user.json', \"r\") as f:\n",
    "    for i, u in tqdm(enumerate(f)):\n",
    "        data = json.loads(u)\n",
    "        users['nid'].append(i)\n",
    "        users['user_id'].append(data['user_id'])\n",
    "        users['useful'].append(data['useful'])\n",
    "        users['friends'].append(data['friends'])\n",
    "        users['fans'].append(data['fans'])\n",
    "        \n",
    "udf = pd.DataFrame(users, columns=['nid', 'user_id', 'useful', 'friends', 'fans'])"
   ]
  },
  {
   "cell_type": "code",
   "execution_count": 3,
   "metadata": {},
   "outputs": [],
   "source": [
    "# 유저 id와 네트워크상의 노드 id 매핑 딕셔너리 생성\n",
    "userid2nid = dict()\n",
    "nid2userid = dict()\n",
    "\n",
    "userid2nid = {uid: nid for nid, uid in udf[['nid', 'user_id']].values.tolist()}\n",
    "nid2userid = {nid: uid for uid, nid in userid2nid.items()}"
   ]
  },
  {
   "cell_type": "code",
   "execution_count": 4,
   "metadata": {},
   "outputs": [
    {
     "name": "stdout",
     "output_type": "stream",
     "text": [
      "CPU times: user 3min 49s, sys: 19.1 s, total: 4min 8s\n",
      "Wall time: 4min 8s\n"
     ]
    }
   ],
   "source": [
    "%%time\n",
    "\n",
    "# string 타입으로 되어 있는 친구 목록을 ','로 분류 하여 list화 한다.\n",
    "udf = udf[udf['friends'] != 'None']\n",
    "udf['friends'] = udf['friends'].apply(lambda r: r.split(', '))\n",
    "udf['friends'] = udf['friends'].apply(lambda friends: [userid2nid[f] for f in friends if f in userid2nid])\n",
    "udf = udf[udf['friends'].str.len()!=0]"
   ]
  },
  {
   "cell_type": "code",
   "execution_count": 5,
   "metadata": {},
   "outputs": [],
   "source": [
    "# 유저(노드) 데이터 저장\n",
    "udf.to_pickle('./data/user.pkl')\n",
    "\n",
    "# 유저 데이터 로드\n",
    "udf = pd.read_pickle('./data/user.pkl')"
   ]
  },
  {
   "cell_type": "code",
   "execution_count": 6,
   "metadata": {},
   "outputs": [],
   "source": [
    "# 친구 연결(edge) 생성\n",
    "edges = udf[['nid', 'friends']].explode('friends')"
   ]
  },
  {
   "cell_type": "code",
   "execution_count": 7,
   "metadata": {},
   "outputs": [
    {
     "name": "stdout",
     "output_type": "stream",
     "text": [
      "CPU times: user 1min 29s, sys: 2.25 s, total: 1min 31s\n",
      "Wall time: 1min 31s\n"
     ]
    }
   ],
   "source": [
    "%%time\n",
    "\n",
    "# 소셜 네트워크 인스턴스 생성\n",
    "G = nx.Graph()\n",
    "G.add_edges_from([(e[0], e[1]) for e in edges.values.tolist()])"
   ]
  },
  {
   "cell_type": "code",
   "execution_count": 8,
   "metadata": {},
   "outputs": [
    {
     "name": "stdout",
     "output_type": "stream",
     "text": [
      "사용자 수:  945140\n",
      "친구 연결 수:  9521050\n"
     ]
    }
   ],
   "source": [
    "# Node, Edge 갯수 확인\n",
    "print('사용자 수: ', len(G.nodes()))\n",
    "print('친구 연결 수: ', len(G.edges()))"
   ]
  },
  {
   "cell_type": "code",
   "execution_count": 9,
   "metadata": {},
   "outputs": [
    {
     "name": "stdout",
     "output_type": "stream",
     "text": [
      "네트워크 연결 유무:  False\n",
      "CPU times: user 9.65 s, sys: 0 ns, total: 9.65 s\n",
      "Wall time: 9.65 s\n"
     ]
    }
   ],
   "source": [
    "%%time\n",
    "\n",
    "# 네트워크 연결 유무 확인\n",
    "print('네트워크 연결 유무: ', nx.is_connected(G))"
   ]
  },
  {
   "cell_type": "code",
   "execution_count": 10,
   "metadata": {},
   "outputs": [
    {
     "name": "stdout",
     "output_type": "stream",
     "text": [
      "CPU times: user 2min 29s, sys: 1.75 s, total: 2min 31s\n",
      "Wall time: 2min 31s\n"
     ]
    }
   ],
   "source": [
    "%%time \n",
    "\n",
    "# Connected component가 가장 큰 것으로 소셜 네트워크 생성\n",
    "LG = G.subgraph(max(nx.connected_components(G), key=len)).copy()"
   ]
  },
  {
   "cell_type": "code",
   "execution_count": 11,
   "metadata": {},
   "outputs": [],
   "source": [
    "# Social network 저장하기 \n",
    "nx.write_gpickle(LG, './data/network.gpickle')"
   ]
  },
  {
   "cell_type": "markdown",
   "metadata": {},
   "source": [
    "## 4. 소셜 네트워크 분석\n",
    "- Exploratory Data Analysis\n",
    "    - Node/Edge Count\n",
    "    - Degree Average\n",
    "    - Degree Distribution\n",
    "    - Average Clustering Coefficient \n",
    "    - Network Connectivity\n",
    "- User Importance Ranking: Infuential User Identification\n",
    "    - DegreeRank\n",
    "    - PageRank\n",
    "    - VoteRank\n",
    "- Evaluation by Information Diffusion Simulation\n",
    "    - Infected Scale \n",
    "    - Average Shortest Path between Influencers    "
   ]
  },
  {
   "cell_type": "markdown",
   "metadata": {},
   "source": [
    "### Exploratory Data Analysis\n",
    "- Node/Edge Count\n",
    "- Degree Average\n",
    "- Degree Distribution\n",
    "- Average Clustering Coefficient\n",
    "- Network Connectivity"
   ]
  },
  {
   "cell_type": "code",
   "execution_count": 12,
   "metadata": {},
   "outputs": [
    {
     "name": "stdout",
     "output_type": "stream",
     "text": [
      "CPU times: user 2min 39s, sys: 40.3 s, total: 3min 19s\n",
      "Wall time: 3min 21s\n"
     ]
    }
   ],
   "source": [
    "%%time\n",
    "\n",
    "# 네트워크 로드\n",
    "LG = nx.read_gpickle(\"./data/network.gpickle\")"
   ]
  },
  {
   "cell_type": "markdown",
   "metadata": {},
   "source": [
    "#### Node/Edge Count"
   ]
  },
  {
   "cell_type": "code",
   "execution_count": 13,
   "metadata": {},
   "outputs": [
    {
     "name": "stdout",
     "output_type": "stream",
     "text": [
      "사용자 수:  930882\n",
      "친구 연결 수:  9513514\n"
     ]
    }
   ],
   "source": [
    "# Node, Edge 갯수 확인\n",
    "print('사용자 수: ', len(LG.nodes()))\n",
    "print('친구 연결 수: ', len(LG.edges()))"
   ]
  },
  {
   "cell_type": "markdown",
   "metadata": {},
   "source": [
    "#### Degree Average "
   ]
  },
  {
   "cell_type": "code",
   "execution_count": 14,
   "metadata": {},
   "outputs": [
    {
     "name": "stdout",
     "output_type": "stream",
     "text": [
      "Degree Average 20.439785064057528\n"
     ]
    }
   ],
   "source": [
    "# 평균적으로 유저는 몇명의 친구가 있는지 확인\n",
    "print('Degree Average', sum([LG.degree(n) for n in LG.nodes()])/float(len(LG)))"
   ]
  },
  {
   "cell_type": "markdown",
   "metadata": {},
   "source": [
    "#### Degree Distribution\n",
    "- Degree : Node에 연결된 Edge 수"
   ]
  },
  {
   "cell_type": "code",
   "execution_count": 15,
   "metadata": {},
   "outputs": [
    {
     "data": {
      "image/png": "[encoded data removed]",
      "text/plain": [
       "<Figure size 720x432 with 1 Axes>"
      ]
     },
     "metadata": {
      "needs_background": "light"
     },
     "output_type": "display_data"
    }
   ],
   "source": [
    "sns.set_palette(\"pastel\")\n",
    "plt.figure(figsize=(10,6))\n",
    "plt.hist([LG.degree(n) for n in LG.nodes()], 30)\n",
    "plt.xlabel('Degree')\n",
    "plt.ylabel('Frequency')\n",
    "plt.title('Degree Distribution')\n",
    "plt.show()"
   ]
  },
  {
   "cell_type": "markdown",
   "metadata": {},
   "source": [
    "#### Average Clustering Coefficient\n",
    "- 네트워크의 결집도를 정량화하여 살펴 본다.\n",
    "- 결집도가 높을수록 네트워크의 복잡도가 높다는 것을 의미하고 네트워크 분석에 어려움을 준다."
   ]
  },
  {
   "cell_type": "code",
   "execution_count": 16,
   "metadata": {},
   "outputs": [
    {
     "name": "stdout",
     "output_type": "stream",
     "text": [
      "네트워크 결집계수:  0.09046159958147673\n",
      "CPU times: user 8min 47s, sys: 0 ns, total: 8min 47s\n",
      "Wall time: 8min 47s\n"
     ]
    }
   ],
   "source": [
    "%%time\n",
    "print('네트워크 결집계수: ', nx.average_clustering(LG))"
   ]
  },
  {
   "cell_type": "markdown",
   "metadata": {},
   "source": [
    "#### Network Connectivity"
   ]
  },
  {
   "cell_type": "code",
   "execution_count": 17,
   "metadata": {},
   "outputs": [
    {
     "name": "stdout",
     "output_type": "stream",
     "text": [
      "네트워크 연결 유무:  True\n",
      "CPU times: user 7.92 s, sys: 0 ns, total: 7.92 s\n",
      "Wall time: 7.93 s\n"
     ]
    }
   ],
   "source": [
    "%%time\n",
    "\n",
    "# 네트워크 연결 유무 확인\n",
    "print('네트워크 연결 유무: ', nx.is_connected(LG))"
   ]
  },
  {
   "cell_type": "markdown",
   "metadata": {},
   "source": [
    "### User Importance : Infuential User Identification\n",
    "- **DegreeRank 모형**\n",
    "    - Node에 연결된 Edge 수로 순위를 계산한다.\n",
    "    - 친구가 많을 수록 바이럴 마케팅에 적합한 유저로 가정한다.\n",
    "- **PageRank 모형**\n",
    "    - 웹페이지 랭킹 모형이다. 랜덤워크 방식으로 방문 가능성이 높은 노드(웹페이지)일 수록 점수를 높게 받는다.\n",
    "    - 인플루언서와 친구인 노드도 인플루언서일 가능성이 높다는 가정을 갖는다.\n",
    "- **VoteRank 모형**\n",
    "    - 투표 체계에 따라 그래프에서 노드의 순위를 계산한다. 모든 노드가 각 이웃에 대해 투표하고 가장 높은 투표를 받은 노드가 반복적으로 선출된다. 선출 된 노드의 인접 노드의 투표 능력은 다음 턴에서 약화된다.\n",
    "    - 투표 체계에서 선정되는 유저를 인플루언서로 가정한다."
   ]
  },
  {
   "cell_type": "code",
   "execution_count": 18,
   "metadata": {},
   "outputs": [],
   "source": [
    "# 인플루언서 수 설정\n",
    "num_influencers = 1000"
   ]
  },
  {
   "cell_type": "markdown",
   "metadata": {},
   "source": [
    "#### DegreeRank"
   ]
  },
  {
   "cell_type": "code",
   "execution_count": 19,
   "metadata": {},
   "outputs": [],
   "source": [
    "# Node에 연결된 Edge가 큰 순서대로 선별\n",
    "degree = sorted([(n, d) for n, d in LG.degree()], key=lambda x: x[1], reverse=True)[:num_influencers]\n",
    "degree = [nid for nid, deg in degree]"
   ]
  },
  {
   "cell_type": "code",
   "execution_count": 20,
   "metadata": {},
   "outputs": [],
   "source": [
    "# Degree 랭킹 정보 저장\n",
    "with open('./data/degree.pkl', 'wb') as f:\n",
    "    pickle.dump(degree, f)\n",
    "    \n",
    "# Degree 랭킹 정보 로드\n",
    "with open('./data/degree.pkl', 'rb') as f:\n",
    "    degree = pickle.load(f)"
   ]
  },
  {
   "cell_type": "markdown",
   "metadata": {},
   "source": [
    "#### PageRank\n",
    "- networkx 라이브러리를 통해 PageRank를 계산 할수 있지만 옐프 소셜 네트워크 데이터는 커서 중간에 메모리 에러가 발생한다.\n",
    "- scipy의 sparse matrix 연산을 통해 PageRank 직접 구현한다."
   ]
  },
  {
   "cell_type": "code",
   "execution_count": 21,
   "metadata": {},
   "outputs": [],
   "source": [
    "def pagerank(G, df=0.85, eps=10**-4):\n",
    "    '''    \n",
    "    Parameters\n",
    "    ----------\n",
    "    G: Adjacency matrix\n",
    "    df: Damping factor\n",
    "    eps: 스탑 컨디션 \n",
    "\n",
    "    Returns\n",
    "    -------\n",
    "    output: list of tuple (idx, pagerank score)\n",
    "\n",
    "    '''    \n",
    "    \n",
    "    n, _ = G.shape\n",
    "    deg_out_beta = G.sum(axis=0).T/df\n",
    "    ranks = np.ones((n, 1))/n\n",
    "    time = 0\n",
    "    flag = True\n",
    "    while flag:        \n",
    "        time += 1\n",
    "        with np.errstate(divide='ignore'):\n",
    "            new_ranks = G.dot((ranks/deg_out_beta))\n",
    "        new_ranks += (1-new_ranks.sum())/n\n",
    "        if np.linalg.norm(ranks-new_ranks, ord=1) <= eps:\n",
    "            flag = False        \n",
    "        ranks = new_ranks\n",
    "        print(time)\n",
    "    return ranks"
   ]
  },
  {
   "cell_type": "code",
   "execution_count": 22,
   "metadata": {},
   "outputs": [
    {
     "name": "stdout",
     "output_type": "stream",
     "text": [
      "1\n",
      "2\n",
      "3\n",
      "4\n",
      "5\n",
      "6\n",
      "7\n",
      "8\n",
      "9\n",
      "10\n",
      "11\n",
      "12\n",
      "13\n",
      "14\n",
      "15\n",
      "16\n",
      "17\n",
      "18\n",
      "19\n",
      "20\n",
      "21\n",
      "22\n",
      "23\n",
      "CPU times: user 2min 53s, sys: 2.47 s, total: 2min 55s\n",
      "Wall time: 2min 26s\n"
     ]
    }
   ],
   "source": [
    "%%time\n",
    "\n",
    "nid2idx = {k: i for i, k in enumerate(list(LG.nodes))}\n",
    "idx2nid = {v: k for k, v in nid2idx.items()}\n",
    "\n",
    "\n",
    "# sparse matrix로 변환\n",
    "rows = [] \n",
    "cols = []  \n",
    "data = [] # weight = 1로 고정\n",
    "\n",
    "for from_node, to_dict in nx.to_dict_of_dicts(LG).items():\n",
    "    from_idx = nid2idx[from_node]\n",
    "    for to_node, _ in to_dict.items():\n",
    "        to_idx = nid2idx[to_node]\n",
    "        rows.append(from_idx)\n",
    "        cols.append(to_idx)\n",
    "        data.append(1)\n",
    "\n",
    "A = csc_matrix((data, (rows, cols)))\n",
    "pr = pagerank(A)\n",
    "pr = np.array(pr).flatten()\n",
    "pagerank = [idx2nid[idx] for idx in np.argsort(-1*pr)[:num_influencers]]"
   ]
  },
  {
   "cell_type": "code",
   "execution_count": 23,
   "metadata": {},
   "outputs": [],
   "source": [
    "# pagerank 랭킹 저장\n",
    "with open('./data/pagerank.pkl', 'wb') as f:\n",
    "    pickle.dump(pagerank, f)\n",
    "    \n",
    "# pagerank 랭킹 로드\n",
    "with open('./data/pagerank.pkl', 'rb') as f:\n",
    "    pagerank = pickle.load(f)"
   ]
  },
  {
   "cell_type": "markdown",
   "metadata": {},
   "source": [
    "#### VeteRank\n",
    "- networkx의 VoteRank를 사용해도 되지만 진행 상황을 알수 없기 때문에 직접 구현한다."
   ]
  },
  {
   "cell_type": "code",
   "execution_count": 24,
   "metadata": {},
   "outputs": [],
   "source": [
    "def voterank(G, iterations=1000):\n",
    "    '''\n",
    "    VoteRank는 모든 노드들이 각자의 degree의 역수라는 voting ability를 가지고 \n",
    "    자신의 이웃들에게 투표를 합니다.\n",
    "    그 다음, 가장 많은 투표를 받은(score가 가장 높은) top_node를 뽑고 나면,\n",
    "    top_node를 제외하고, 그 이웃 노드들의 voting ability를 약화시킵니다. \n",
    "    \n",
    "    Parameters\n",
    "    ----------\n",
    "    G: Adjacency matrix\n",
    "    max_iter: 선별할 노드 갯수\n",
    "\n",
    "    Returns\n",
    "    -------\n",
    "    output: list of nid\n",
    "    '''\n",
    "    \n",
    "    G = G.copy()\n",
    "    inv_avg_deg = 1.0 / sum(deg for _, deg in G.degree()) / float(len(G))\n",
    "    voterank = []\n",
    "    \n",
    "    # step 1 : 처음 모든 node의 score가 0 이고, voting_ability는 1이다.\n",
    "    for n in G:\n",
    "        G.nodes[n]['score'] = 0\n",
    "        G.nodes[n]['voting_ability'] = 1\n",
    "   \n",
    "    for i in range(0, iterations):\n",
    "        start = time.time()\n",
    "        # step 2: iteration이 돌고 나면 score가 변하므로 모든 node의 score를 0으로 다시 setting한다.\n",
    "        for n in G:\n",
    "            G.nodes[n]['score'] = 0\n",
    "        # step 3: 모든 node가 neighbor node들에게 현재의 voting ability를 더해준다.\n",
    "        for n in G:\n",
    "            for neighbor in G[n]:\n",
    "                G.nodes[neighbor]['score'] += G.nodes[n]['voting_ability']\n",
    "        # step 4: 가장 score가 높은 node를 뽑고 top_node 이웃 노드들의 voting ability를 약화시킵니다. \n",
    "        top_node = max(list(G), key=lambda x: G.nodes[x]['score'])\n",
    "        top_score = G.nodes[top_node]['score']\n",
    "        for neighbor in G.neighbors(top_node):\n",
    "            G.nodes[neighbor]['voting_ability'] -= inv_avg_deg\n",
    "\n",
    "        # iteration termination condition\n",
    "        # 1) score가 0보다 큰 node가 없거나,\n",
    "        # 2) 모든 node가 이미 voterank 추가되었거나.\n",
    "        if top_score == 0 or (len(voterank)==len(G)):\n",
    "            return voterank\n",
    "        else:  \n",
    "            voterank.append(top_node)\n",
    "            G.remove_node(top_node)\n",
    "        print('{:>5}th iteration took {:.0f} (sec)'.format(i+1, time.time() - start))\n",
    "        \n",
    "    return voterank"
   ]
  },
  {
   "cell_type": "code",
   "execution_count": 25,
   "metadata": {
    "scrolled": true
   },
   "outputs": [],
   "source": [
    "# %%time\n",
    "# voterank = voterank(LG, max_iter=num_influencers)"
   ]
  },
  {
   "cell_type": "code",
   "execution_count": 26,
   "metadata": {},
   "outputs": [],
   "source": [
    "# voterank 랭킹 저장\n",
    "# with open('./data/voterank.pkl', 'wb') as f:\n",
    "#     pickle.dump(voterank, f)"
   ]
  },
  {
   "cell_type": "code",
   "execution_count": 31,
   "metadata": {},
   "outputs": [],
   "source": [
    "# voterank 랭킹 로드\n",
    "with open('./data/voterank.pkl', 'rb') as f:\n",
    "    voterank = pickle.load(f)"
   ]
  },
  {
   "cell_type": "markdown",
   "metadata": {},
   "source": [
    "### Evaluation by Information Diffusion\n",
    "\n",
    "세가지 인플루언서 선별 모형들은 아래 두가지 방식으로 성능평가를 한다.\n",
    "- Infected Scale\n",
    "- Average Shortest path between Influencers"
   ]
  },
  {
   "cell_type": "markdown",
   "metadata": {},
   "source": [
    "#### Infected Scale\n",
    "- 모형별 시간에 따른 영향력 확산율 비교하여 정보 확산 영향력을 비교한다.\n",
    "- 네트워크 정보 확산 모형은 SIR Model 사용한다."
   ]
  },
  {
   "cell_type": "code",
   "execution_count": 27,
   "metadata": {},
   "outputs": [],
   "source": [
    "# Infected(beta/gamma) Scale\n",
    "beta = 0.025\n",
    "gamma = 0.01666\n",
    "times = 100"
   ]
  },
  {
   "cell_type": "code",
   "execution_count": 28,
   "metadata": {
    "scrolled": true
   },
   "outputs": [
    {
     "name": "stderr",
     "output_type": "stream",
     "text": [
      "100%|█████████████████████████████████████████████████████████████████████████████████████| 100/100 [11:09<00:00,  6.69s/it]\n"
     ]
    }
   ],
   "source": [
    "# DegreeRank 모형 시뮬레이션\n",
    "\n",
    "model4deg = ep.SIRModel(LG)\n",
    "config4deg = mc.Configuration()\n",
    "config4deg.add_model_initial_configuration(\"Infected\", degree)\n",
    "config4deg.add_model_parameter('beta', beta)\n",
    "config4deg.add_model_parameter('gamma', gamma)\n",
    "model4deg.set_initial_status(config4deg)\n",
    "trends4deg = model4deg.build_trends(model4deg.iteration_bunch(times))"
   ]
  },
  {
   "cell_type": "code",
   "execution_count": 29,
   "metadata": {
    "scrolled": true
   },
   "outputs": [
    {
     "name": "stderr",
     "output_type": "stream",
     "text": [
      "100%|█████████████████████████████████████████████████████████████████████████████████████| 100/100 [10:59<00:00,  6.59s/it]\n"
     ]
    }
   ],
   "source": [
    "# PageRank 모형 시뮬레이션\n",
    "\n",
    "model4pr = ep.SIRModel(LG)\n",
    "config4pr = mc.Configuration()\n",
    "config4pr.add_model_initial_configuration(\"Infected\", pagerank)\n",
    "config4pr.add_model_parameter('beta', beta)\n",
    "config4pr.add_model_parameter('gamma', gamma)\n",
    "model4pr.set_initial_status(config4pr)\n",
    "trends4pr = model4pr.build_trends(model4pr.iteration_bunch(times))"
   ]
  },
  {
   "cell_type": "code",
   "execution_count": 32,
   "metadata": {
    "scrolled": true
   },
   "outputs": [
    {
     "name": "stderr",
     "output_type": "stream",
     "text": [
      "100%|█████████████████████████████████████████████████████████████████████████████████████| 100/100 [11:17<00:00,  6.77s/it]\n"
     ]
    }
   ],
   "source": [
    "# VoteRank 모형 시뮬레이션\n",
    "\n",
    "model4vr = ep.SIRModel(LG)\n",
    "config4vr = mc.Configuration()\n",
    "config4vr.add_model_initial_configuration(\"Infected\", voterank)\n",
    "config4vr.add_model_parameter('beta', beta)\n",
    "config4vr.add_model_parameter('gamma', gamma)\n",
    "model4vr.set_initial_status(config4vr)\n",
    "trends4vr = model4vr.build_trends(model4vr.iteration_bunch(times))"
   ]
  },
  {
   "cell_type": "code",
   "execution_count": 33,
   "metadata": {},
   "outputs": [],
   "source": [
    "def calc_infected_scale(N, infected, recovered):\n",
    "    acc = []\n",
    "    for i, (inf, rec) in enumerate(zip(infected, recovered)):\n",
    "        acc.append((inf+rec)/N)\n",
    "    return acc\n",
    "\n",
    "N = len(LG.nodes())\n",
    "\n",
    "trends = pd.DataFrame(\n",
    "        {\n",
    "            'VoteRank': calc_infected_scale(N, trends4vr[0]['trends']['node_count'][1], trends4vr[0]['trends']['node_count'][2]),\n",
    "            'PageRank': calc_infected_scale(N, trends4pr[0]['trends']['node_count'][1], trends4pr[0]['trends']['node_count'][2]),\n",
    "            'Degree': calc_infected_scale(N, trends4deg[0]['trends']['node_count'][1], trends4deg[0]['trends']['node_count'][2])\n",
    "        }\n",
    "    ) \\\n",
    "    .reset_index().rename(columns={'index': 'time'}).head(20)"
   ]
  },
  {
   "cell_type": "code",
   "execution_count": 34,
   "metadata": {},
   "outputs": [
    {
     "data": {
      "image/png": "[encoded data removed]",
      "text/plain": [
       "<Figure size 720x432 with 1 Axes>"
      ]
     },
     "metadata": {
      "needs_background": "light"
     },
     "output_type": "display_data"
    }
   ],
   "source": [
    "trends.plot(x=\"time\", y=[\"VoteRank\", \"PageRank\", \"Degree\"], kind=\"line\", figsize=(10,6))\n",
    "plt.show()"
   ]
  },
  {
   "cell_type": "markdown",
   "metadata": {},
   "source": [
    "- VoteRank로 선별된 사용자들의 영향력 확산속도가 가장 빠른 것을 확인 할 수 있다."
   ]
  },
  {
   "cell_type": "markdown",
   "metadata": {},
   "source": [
    "#### Average Shortest path between Influencers\n",
    "- 정보확산 속도를 빠르게 하기 위해서는 인플루언서가 네트워크상에서 위치하는 곳이 멀리 떨어져 있어야 한다.\n",
    "- 모형 별 influencer 간 최단 경로 평균을 구해 비교 하여 살펴 본다."
   ]
  },
  {
   "cell_type": "code",
   "execution_count": 35,
   "metadata": {
    "scrolled": true
   },
   "outputs": [
    {
     "name": "stderr",
     "output_type": "stream",
     "text": [
      "100%|█████████████████████████████████████████████████████████████████████████████| 499500/499500 [03:38<00:00, 2285.31it/s]\n"
     ]
    },
    {
     "name": "stdout",
     "output_type": "stream",
     "text": [
      "CPU times: user 3min 38s, sys: 1.37 s, total: 3min 39s\n",
      "Wall time: 3min 38s\n"
     ]
    },
    {
     "data": {
      "text/plain": [
       "1.762962962962963"
      ]
     },
     "execution_count": 35,
     "metadata": {},
     "output_type": "execute_result"
    }
   ],
   "source": [
    "%%time\n",
    "# Degree\n",
    "pairs = list(itertools.combinations(degree, 2))\n",
    "\n",
    "lengths4degree = []\n",
    "for pair in tqdm(pairs):\n",
    "    lengths4degree.append(nx.shortest_path_length(LG, pair[0], pair[1]))\n",
    "    \n",
    "np.sum(lengths4degree)/len(pairs)"
   ]
  },
  {
   "cell_type": "code",
   "execution_count": 36,
   "metadata": {
    "scrolled": true
   },
   "outputs": [
    {
     "name": "stderr",
     "output_type": "stream",
     "text": [
      "100%|█████████████████████████████████████████████████████████████████████████████| 499500/499500 [03:32<00:00, 2348.84it/s]"
     ]
    },
    {
     "name": "stdout",
     "output_type": "stream",
     "text": [
      "CPU times: user 3min 32s, sys: 1.58 s, total: 3min 33s\n",
      "Wall time: 3min 33s\n"
     ]
    },
    {
     "name": "stderr",
     "output_type": "stream",
     "text": [
      "\n"
     ]
    },
    {
     "data": {
      "text/plain": [
       "1.7904784784784784"
      ]
     },
     "execution_count": 36,
     "metadata": {},
     "output_type": "execute_result"
    }
   ],
   "source": [
    "%%time\n",
    "# PageRank\n",
    "pairs = list(itertools.combinations(pagerank, 2))\n",
    "\n",
    "lengths4pagerank = []\n",
    "for pair in tqdm(pairs):\n",
    "    lengths4pagerank.append(nx.shortest_path_length(LG, pair[0], pair[1]))\n",
    "    \n",
    "np.sum(lengths4pagerank)/len(pairs)"
   ]
  },
  {
   "cell_type": "code",
   "execution_count": 37,
   "metadata": {
    "scrolled": true
   },
   "outputs": [
    {
     "name": "stderr",
     "output_type": "stream",
     "text": [
      "100%|█████████████████████████████████████████████████████████████████████████████| 499500/499500 [05:44<00:00, 1450.02it/s]"
     ]
    },
    {
     "name": "stdout",
     "output_type": "stream",
     "text": [
      "CPU times: user 5min 43s, sys: 2.42 s, total: 5min 45s\n",
      "Wall time: 5min 44s\n"
     ]
    },
    {
     "name": "stderr",
     "output_type": "stream",
     "text": [
      "\n"
     ]
    },
    {
     "data": {
      "text/plain": [
       "2.4881281281281282"
      ]
     },
     "execution_count": 37,
     "metadata": {},
     "output_type": "execute_result"
    }
   ],
   "source": [
    "%%time\n",
    "# VoteRank\n",
    "pairs = list(itertools.combinations(voterank, 2))\n",
    "\n",
    "lengths4voterank = []\n",
    "for pair in tqdm(pairs):\n",
    "    lengths4voterank.append(nx.shortest_path_length(LG, pair[0], pair[1]))\n",
    "    \n",
    "np.sum(lengths4voterank)/len(pairs)"
   ]
  },
  {
   "cell_type": "code",
   "execution_count": 38,
   "metadata": {
    "scrolled": true
   },
   "outputs": [],
   "source": [
    "df_degree = pd.DataFrame(lengths4degree, columns=['path'])\n",
    "df_degree['type'] = 'Degree'\n",
    "\n",
    "df_pagerank = pd.DataFrame(lengths4pagerank, columns=['path'])\n",
    "df_pagerank['type'] = 'PageRank'\n",
    "\n",
    "df_voterank = pd.DataFrame(lengths4voterank, columns=['path'])\n",
    "df_voterank['type'] = 'VoteRank'\n",
    "\n",
    "paths = pd.concat([df_degree, df_pagerank, df_voterank])"
   ]
  },
  {
   "cell_type": "code",
   "execution_count": 39,
   "metadata": {},
   "outputs": [
    {
     "data": {
      "image/png": "[encoded data removed]",
      "text/plain": [
       "<Figure size 720x432 with 1 Axes>"
      ]
     },
     "metadata": {
      "needs_background": "light"
     },
     "output_type": "display_data"
    }
   ],
   "source": [
    "sns.set_palette(\"pastel\")\n",
    "plt.figure(figsize=(10,6)) \n",
    "sns.countplot(x=\"path\", hue=\"type\", data=paths)\n",
    "plt.grid(False)\n",
    "plt.legend(loc=1)\n",
    "plt.show()"
   ]
  },
  {
   "cell_type": "markdown",
   "metadata": {},
   "source": [
    "- VoteRank로 선별된 인플루언서들이 social network 상에서 서로 더 멀리 떨어져 있는 것을 확인할 수 있다."
   ]
  },
  {
   "cell_type": "markdown",
   "metadata": {},
   "source": [
    "## 5. Conclusion\n",
    "- 바이럴마케팅에 활용할 영향력이 높은 사용자들을 선별하기 위해 social network 분석을 진행하였고, 사용자(node)와 friend(edge) 데이터를 이용하여 소셜 네트워크를 구성하였다.\n",
    "- 사용자(node)의 중요성을 측정하기 위해 Degree centrality, PageRank, VoteRank 알고리즘을 사용하였고, 각 모델 별 상위 인플루언서 1000명을 추출하였다.\n",
    "- 2가지 정량적인 방법으로 인플루언서의 영향력을 정령 평가 하였다.\n",
    "    - 첫번째는 네트워크에서의 정보 확산 모형인 SIR Model을 사용하여 시간에 따른 인플루언서를 통한 정보 확산력을 비교하였고, VoteRank의 확산력이 가장 우수한 것을 확인 하였다. \n",
    "    - 두번째는 모형별로 인플루언서들 간의 평균 최단 경로를 비교하였고, VoteRank로 선별된 인플루언서가 social network 상에서 서로 더 멀리까지 퍼져있다는 것을 확인 하였다.\n",
    "- Social network 분석에 기반한 소셜 인플루언서 선별 모형으로 영향력이 높은 사용자들을 선별하여 바이럴 마케팅을 진행하면 인플루언서로 인한 빠르고 폭 넓은 확산을 통해 잠재고객을 극대화 할 수 있습니다.  "
   ]
  },
  {
   "cell_type": "markdown",
   "metadata": {},
   "source": [
    "## 6. Future Work\n",
    "- Temporal Network를 구성 후 시간에 따른 관계를 분석하여 소셜 네트워크 분석 고도화\n",
    "- 사용자-비즈니즈 평점 bipartite network를 구성하여 그래프 머신러닝 기반 개인화 추천 모형 개발"
   ]
  }
 ],
 "metadata": {
  "kernelspec": {
   "display_name": "Python 3",
   "language": "python",
   "name": "python3"
  },
  "language_info": {
   "codemirror_mode": {
    "name": "ipython",
    "version": 3
   },
   "file_extension": ".py",
   "mimetype": "text/x-python",
   "name": "python",
   "nbconvert_exporter": "python",
   "pygments_lexer": "ipython3",
   "version": "3.7.0"
  }
 },
 "nbformat": 4,
 "nbformat_minor": 4
}
